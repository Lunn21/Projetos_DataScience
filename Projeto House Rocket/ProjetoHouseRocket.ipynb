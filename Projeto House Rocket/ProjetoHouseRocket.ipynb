{
 "cells": [
  {
   "cell_type": "markdown",
   "id": "d8742fb5",
   "metadata": {},
   "source": [
    "## 1 - Quais casas o CEO da House Rocket deveria comprar e por qual preço de compra?\n",
    "\n",
    "## 2 - Uma vez a casa em posse da empresa, qual o melhor momento para vendê-las e qual seria o preço da venda?\n",
    "\n",
    "## 3 - A House Rocket deveria fazer uma reforma para aumentar o preço da venda? Quais seriam as sugestões de mudanças? Qual o incremento no preço dado por cada opção de reforma?"
   ]
  },
  {
   "cell_type": "markdown",
   "id": "7fee3b9b",
   "metadata": {},
   "source": [
    "Passos para a resolução\n",
    "Passo 1: Importar os dados\n",
    "Passo 2: Verificar o estado dos dados e possivel limpeza\n",
    "Passo 3: Analise Exploratoria dos dados\n",
    "Passo 4: Modelagem dos dados\n",
    "Passo 5: Testar algoritmos\n",
    "Passo 6: Verificar algoritmos"
   ]
  },
  {
   "cell_type": "code",
   "execution_count": 24,
   "id": "9a0fcc7c",
   "metadata": {},
   "outputs": [],
   "source": [
    "import pandas as pd\n",
    "import plotly.express as px"
   ]
  },
  {
   "cell_type": "code",
   "execution_count": 55,
   "id": "f2f40f55",
   "metadata": {},
   "outputs": [],
   "source": [
    "# Passo 1: Importar os dados\n",
    "tabela = pd.read_csv('kc_house_data.csv')"
   ]
  },
  {
   "cell_type": "code",
   "execution_count": 12,
   "id": "b8fa551e",
   "metadata": {},
   "outputs": [
    {
     "name": "stdout",
     "output_type": "stream",
     "text": [
      "<class 'pandas.core.frame.DataFrame'>\n",
      "RangeIndex: 21613 entries, 0 to 21612\n",
      "Data columns (total 21 columns):\n",
      " #   Column         Non-Null Count  Dtype  \n",
      "---  ------         --------------  -----  \n",
      " 0   id             21613 non-null  int64  \n",
      " 1   date           21613 non-null  object \n",
      " 2   price          21613 non-null  float64\n",
      " 3   bedrooms       21613 non-null  int64  \n",
      " 4   bathrooms      21613 non-null  float64\n",
      " 5   sqft_living    21613 non-null  int64  \n",
      " 6   sqft_lot       21613 non-null  int64  \n",
      " 7   floors         21613 non-null  float64\n",
      " 8   waterfront     21613 non-null  int64  \n",
      " 9   view           21613 non-null  int64  \n",
      " 10  condition      21613 non-null  int64  \n",
      " 11  grade          21613 non-null  int64  \n",
      " 12  sqft_above     21613 non-null  int64  \n",
      " 13  sqft_basement  21613 non-null  int64  \n",
      " 14  yr_built       21613 non-null  int64  \n",
      " 15  yr_renovated   21613 non-null  int64  \n",
      " 16  zipcode        21613 non-null  int64  \n",
      " 17  lat            21613 non-null  float64\n",
      " 18  long           21613 non-null  float64\n",
      " 19  sqft_living15  21613 non-null  int64  \n",
      " 20  sqft_lot15     21613 non-null  int64  \n",
      "dtypes: float64(5), int64(15), object(1)\n",
      "memory usage: 3.5+ MB\n"
     ]
    }
   ],
   "source": [
    "# Passo 2: Verificar o estado dos dados\n",
    "tabela.info()"
   ]
  },
  {
   "cell_type": "code",
   "execution_count": 60,
   "id": "808b6da9",
   "metadata": {},
   "outputs": [],
   "source": [
    "# Passo 2.5: Limpeza\n",
    "tabela = tabela.drop(15870)\n",
    "tabela.floors = tabela.floors.astype(int)\n",
    "tabela.price = tabela.price.astype(int)\n",
    "tabela.bathrooms = tabela.bathrooms.astype(int)"
   ]
  },
  {
   "cell_type": "code",
   "execution_count": 61,
   "id": "87230ea3",
   "metadata": {},
   "outputs": [
    {
     "name": "stdout",
     "output_type": "stream",
     "text": [
      "<class 'pandas.core.frame.DataFrame'>\n",
      "Int64Index: 21612 entries, 0 to 21612\n",
      "Data columns (total 21 columns):\n",
      " #   Column         Non-Null Count  Dtype  \n",
      "---  ------         --------------  -----  \n",
      " 0   id             21612 non-null  int64  \n",
      " 1   date           21612 non-null  object \n",
      " 2   price          21612 non-null  int32  \n",
      " 3   bedrooms       21612 non-null  int64  \n",
      " 4   bathrooms      21612 non-null  int32  \n",
      " 5   sqft_living    21612 non-null  int64  \n",
      " 6   sqft_lot       21612 non-null  int64  \n",
      " 7   floors         21612 non-null  int32  \n",
      " 8   waterfront     21612 non-null  int64  \n",
      " 9   view           21612 non-null  int64  \n",
      " 10  condition      21612 non-null  int64  \n",
      " 11  grade          21612 non-null  int64  \n",
      " 12  sqft_above     21612 non-null  int64  \n",
      " 13  sqft_basement  21612 non-null  int64  \n",
      " 14  yr_built       21612 non-null  int64  \n",
      " 15  yr_renovated   21612 non-null  int64  \n",
      " 16  zipcode        21612 non-null  int64  \n",
      " 17  lat            21612 non-null  float64\n",
      " 18  long           21612 non-null  float64\n",
      " 19  sqft_living15  21612 non-null  int64  \n",
      " 20  sqft_lot15     21612 non-null  int64  \n",
      "dtypes: float64(2), int32(3), int64(15), object(1)\n",
      "memory usage: 3.4+ MB\n"
     ]
    },
    {
     "data": {
      "text/plain": [
       "None"
      ]
     },
     "metadata": {},
     "output_type": "display_data"
    }
   ],
   "source": [
    "tabela.info()"
   ]
  },
  {
   "cell_type": "code",
   "execution_count": null,
   "id": "da614188",
   "metadata": {},
   "outputs": [],
   "source": [
    "# Passo 3: Analise Exploratoria"
   ]
  },
  {
   "cell_type": "code",
   "execution_count": null,
   "id": "8bf4ef86",
   "metadata": {},
   "outputs": [],
   "source": []
  }
 ],
 "metadata": {
  "kernelspec": {
   "display_name": "Python 3",
   "language": "python",
   "name": "python3"
  },
  "language_info": {
   "codemirror_mode": {
    "name": "ipython",
    "version": 3
   },
   "file_extension": ".py",
   "mimetype": "text/x-python",
   "name": "python",
   "nbconvert_exporter": "python",
   "pygments_lexer": "ipython3",
   "version": "3.8.8"
  }
 },
 "nbformat": 4,
 "nbformat_minor": 5
}
